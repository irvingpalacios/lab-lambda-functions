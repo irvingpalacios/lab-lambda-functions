{
 "cells": [
  {
   "cell_type": "markdown",
   "metadata": {},
   "source": [
    "# Before your start:\n",
    "- Read the README.md file\n",
    "- Comment as much as you can and use the resources in the README.md file\n",
    "- Happy learning!"
   ]
  },
  {
   "cell_type": "markdown",
   "metadata": {},
   "source": [
    "# Challenge 1 - Passing a Lambda Expression to a Function\n",
    "\n",
    "In the next excercise you will create a function that returns a lambda expression. Create a function called `modify_list`. The function takes two arguments, a list and a lambda expression. The function iterates through the list and applies the lambda expression to every element in the list."
   ]
  },
  {
   "cell_type": "raw",
   "metadata": {},
   "source": [
    "Follow the steps as stated below:\n",
    "    1. Define a list of any 10 numbers\n",
    "    2. Define a simple lambda expression for eg that updates a number by 2\n",
    "    3. Define an empty list\n",
    "    4. Define the function -> use the lambda function to append the empty list\n",
    "    5. Call the function with list and lambda expression\n",
    "    6. print the updated list  "
   ]
  },
  {
   "cell_type": "code",
   "execution_count": 1,
   "metadata": {},
   "outputs": [
    {
     "name": "stdout",
     "output_type": "stream",
     "text": [
      "[2, 3, 4, 5, 6, 7, 8, 9, 10, 11]\n"
     ]
    }
   ],
   "source": [
    "l = [n for n in range(0,10)]\n",
    "f = lambda x: x + 2\n",
    "b = []\n",
    "def modify_list(lst, f_lambda):\n",
    "    for x in l:\n",
    "        b.append(f_lambda(x))\n",
    "modify_list(b,f)\n",
    "print(b)"
   ]
  },
  {
   "cell_type": "markdown",
   "metadata": {},
   "source": [
    "#### Now we will define a lambda expression that will transform the elements of the list. \n",
    "\n",
    "In the cell below, create a lambda expression that converts Celsius to Kelvin. Recall that 0°C + 273.15 = 273.15K"
   ]
  },
  {
   "cell_type": "code",
   "execution_count": 2,
   "metadata": {},
   "outputs": [],
   "source": [
    "# Your code here:\n",
    "\n",
    "C_to_K = lambda x: x + 273.15"
   ]
  },
  {
   "cell_type": "markdown",
   "metadata": {},
   "source": [
    "Finally, convert the list of temperatures below from Celsius to Kelvin."
   ]
  },
  {
   "cell_type": "code",
   "execution_count": 4,
   "metadata": {},
   "outputs": [
    {
     "name": "stdout",
     "output_type": "stream",
     "text": [
      "[285.15, 296.15, 311.15, 218.14999999999998, 297.15]\n"
     ]
    }
   ],
   "source": [
    "temps = [12, 23, 38, -55, 24]\n",
    "\n",
    "# Your code here:\n",
    "\n",
    "temps = [C_to_K(temp) \n",
    "         for temp in temps]\n",
    "\n",
    "print(temps)\n"
   ]
  },
  {
   "cell_type": "markdown",
   "metadata": {},
   "source": [
    "#### In this part, we will define a function that returns a lambda expression\n",
    "\n",
    "In the cell below, write a lambda expression that takes two numbers and returns 1 if one is divisible by the other and zero otherwise. Call the lambda expression `mod`."
   ]
  },
  {
   "cell_type": "code",
   "execution_count": 5,
   "metadata": {},
   "outputs": [],
   "source": [
    "# Your code here:\n",
    "\n",
    "mod = lambda x,y: 1 if x % y == 0  else 0"
   ]
  },
  {
   "cell_type": "markdown",
   "metadata": {},
   "source": [
    "#### Now create a function that returns mod. The function only takes one argument - the first number in the `mod` lambda function. \n",
    "\n",
    "Note: the lambda function above took two arguments, the lambda function in the return statement only takes one argument but also uses the argument passed to the function."
   ]
  },
  {
   "cell_type": "code",
   "execution_count": 11,
   "metadata": {},
   "outputs": [],
   "source": [
    "def divisor(b):\n",
    "    \"\"\"\n",
    "    input: a number\n",
    "    output: a function that returns 1 if the number is divisible by another number (to be passed later) and zero otherwise\n",
    "    \"\"\"\n",
    "    \n",
    "    # Your code here:\n",
    "    return lambda x, y: 1 if x % y == 0  else 0"
   ]
  },
  {
   "cell_type": "markdown",
   "metadata": {},
   "source": [
    "Finally, pass the number 5 to `divisor`. Now the function will check whether a number is divisble by 5. Assign this function to `divisible5`"
   ]
  },
  {
   "cell_type": "code",
   "execution_count": 12,
   "metadata": {},
   "outputs": [],
   "source": [
    "# Your code here:\n",
    "divisible5 = divisor(5)\n"
   ]
  },
  {
   "cell_type": "markdown",
   "metadata": {},
   "source": [
    "Test your function with the following test cases:"
   ]
  },
  {
   "cell_type": "code",
   "execution_count": 13,
   "metadata": {},
   "outputs": [
    {
     "ename": "TypeError",
     "evalue": "<lambda>() missing 1 required positional argument: 'y'",
     "output_type": "error",
     "traceback": [
      "\u001b[0;31m---------------------------------------------------------------------------\u001b[0m",
      "\u001b[0;31mTypeError\u001b[0m                                 Traceback (most recent call last)",
      "\u001b[0;32m<ipython-input-13-f415c02b249c>\u001b[0m in \u001b[0;36m<module>\u001b[0;34m\u001b[0m\n\u001b[0;32m----> 1\u001b[0;31m \u001b[0mdivisible5\u001b[0m\u001b[0;34m(\u001b[0m\u001b[0;36m10\u001b[0m\u001b[0;34m)\u001b[0m\u001b[0;34m\u001b[0m\u001b[0;34m\u001b[0m\u001b[0m\n\u001b[0m",
      "\u001b[0;31mTypeError\u001b[0m: <lambda>() missing 1 required positional argument: 'y'"
     ]
    }
   ],
   "source": [
    "divisible5(10)"
   ]
  },
  {
   "cell_type": "code",
   "execution_count": 14,
   "metadata": {},
   "outputs": [
    {
     "ename": "TypeError",
     "evalue": "<lambda>() missing 1 required positional argument: 'y'",
     "output_type": "error",
     "traceback": [
      "\u001b[0;31m---------------------------------------------------------------------------\u001b[0m",
      "\u001b[0;31mTypeError\u001b[0m                                 Traceback (most recent call last)",
      "\u001b[0;32m<ipython-input-14-469dc508f972>\u001b[0m in \u001b[0;36m<module>\u001b[0;34m\u001b[0m\n\u001b[0;32m----> 1\u001b[0;31m \u001b[0mdivisible5\u001b[0m\u001b[0;34m(\u001b[0m\u001b[0;36m8\u001b[0m\u001b[0;34m)\u001b[0m\u001b[0;34m\u001b[0m\u001b[0;34m\u001b[0m\u001b[0m\n\u001b[0m",
      "\u001b[0;31mTypeError\u001b[0m: <lambda>() missing 1 required positional argument: 'y'"
     ]
    }
   ],
   "source": [
    "divisible5(8)"
   ]
  },
  {
   "cell_type": "markdown",
   "metadata": {},
   "source": [
    "# Challenge 2 - Using Lambda Expressions in List Comprehensions\n",
    "\n",
    "In the following challenge, we will combine two lists using a lambda expression in a list comprehension. \n",
    "\n",
    "To do this, we will need to introduce the `zip` function. The `zip` function returns an iterator of tuples.\n",
    "\n",
    "The way zip function works with list has been shown below:"
   ]
  },
  {
   "cell_type": "code",
   "execution_count": 18,
   "metadata": {},
   "outputs": [
    {
     "data": {
      "text/plain": [
       "[('Green', 'eggs'),\n",
       " ('cheese', 'cheese'),\n",
       " ('English', 'cucumber'),\n",
       " ('tomato', 'tomato')]"
      ]
     },
     "execution_count": 18,
     "metadata": {},
     "output_type": "execute_result"
    }
   ],
   "source": [
    "list1 = ['Green', 'cheese', 'English', 'tomato']\n",
    "list2 = ['eggs', 'cheese', 'cucumber', 'tomato']\n",
    "zipped = zip(list1,list2)\n",
    "list(zipped)"
   ]
  },
  {
   "cell_type": "markdown",
   "metadata": {},
   "source": [
    "In this exercise we will try to compare the elements on the same index in the two lists. \n",
    "We want to zip the two lists and then use a lambda expression to compare if:\n",
    "list1 element > list2 element "
   ]
  },
  {
   "cell_type": "code",
   "execution_count": 17,
   "metadata": {},
   "outputs": [
    {
     "name": "stdout",
     "output_type": "stream",
     "text": [
      "1 2\n",
      "False\n",
      "2 3\n",
      "False\n",
      "3 4\n",
      "False\n",
      "4 5\n",
      "False\n"
     ]
    }
   ],
   "source": [
    "list1 = [1,2,3,4]\n",
    "list2 = [2,3,4,5]\n",
    "## Zip the lists together \n",
    "## Print the zipped list \n",
    "\n",
    "compare = lambda x,y: print(\"True\") if x == y else print(\"False\")\n",
    "for x,y in zip(list1,list2):\n",
    "    print(x,y)\n",
    "    compare(x,y)"
   ]
  },
  {
   "cell_type": "raw",
   "metadata": {},
   "source": [
    "Complete the parts of the code marked as \"###\""
   ]
  },
  {
   "cell_type": "code",
   "execution_count": 4,
   "metadata": {},
   "outputs": [
    {
     "data": {
      "text/plain": [
       "'\\n\\ncompare = lambda ###: print(\"True\") if ### else print(\"False\")\\nfor ### in zip(list1,list2):\\n    compare(###)\\n    \\n'"
      ]
     },
     "execution_count": 4,
     "metadata": {},
     "output_type": "execute_result"
    }
   ],
   "source": [
    "'''\n",
    "\n",
    "compare = lambda ###: print(\"True\") if ### else print(\"False\")\n",
    "for ### in zip(list1,list2):\n",
    "    compare(###)\n",
    "    \n",
    "'''    "
   ]
  },
  {
   "cell_type": "markdown",
   "metadata": {},
   "source": [
    "# Challenge 3 - Using Lambda Expressions as Arguments\n",
    "\n",
    "#### In this challenge, we will zip together two lists and sort by the resulting tuple.\n",
    "\n",
    "In the cell below, take the two lists provided, zip them together and sort by the first letter of the second element of each tuple. Do this using a lambda function."
   ]
  },
  {
   "cell_type": "code",
   "execution_count": 16,
   "metadata": {},
   "outputs": [
    {
     "name": "stdout",
     "output_type": "stream",
     "text": [
      "[('Engineering', 'Lab'), ('Computer Science', 'Homework'), ('Political Science', 'Essay'), ('Mathematics', 'Module')]\n",
      "[('Political Science', 'Essay'), ('Computer Science', 'Homework'), ('Engineering', 'Lab'), ('Mathematics', 'Module')]\n"
     ]
    }
   ],
   "source": [
    "list1 = ['Engineering', 'Computer Science', 'Political Science', 'Mathematics']\n",
    "list2 = ['Lab', 'Homework', 'Essay', 'Module']\n",
    "\n",
    "# Your code here:\n",
    "zipped = zip(list1,list2)\n",
    "lst_zipped = (list(zipped))\n",
    "print(lst_zipped)\n",
    "\n",
    "#esto es como una funcion donde pasas lo que quieres ordenar y por medio de que, en este caso queremos que sea por medio del segundo valor de la tupla\n",
    "lst_zipped = sorted(lst_zipped, key= lambda tup: tup[1]) \n",
    "print(lst_zipped)\n"
   ]
  },
  {
   "cell_type": "markdown",
   "metadata": {},
   "source": [
    "# Bonus Challenge - Sort a Dictionary by Values\n",
    "\n",
    "Given the dictionary below, sort it by values rather than by keys. Use a lambda function to specify the values as a sorting key."
   ]
  },
  {
   "cell_type": "code",
   "execution_count": 13,
   "metadata": {},
   "outputs": [],
   "source": [
    "d = {'Honda': 1997, 'Toyota': 1995, 'Audi': 2001, 'BMW': 2005}\n",
    "\n",
    "# Your code here:"
   ]
  },
  {
   "cell_type": "code",
   "execution_count": 15,
   "metadata": {},
   "outputs": [
    {
     "name": "stdout",
     "output_type": "stream",
     "text": [
      "{'Toyota': 1995, 'Honda': 1997, 'Audi': 2001, 'BMW': 2005}\n"
     ]
    }
   ],
   "source": [
    "import random\n",
    "\n",
    "\n",
    "d = {'Honda': 1997, 'Toyota': 1995, 'Audi': 2001, 'BMW': 2005}\n",
    "\n",
    "# Your code here:\n",
    "d = sorted(d.items(), key = lambda item: item[1])\n",
    "d=dict(d)\n",
    "print(d)"
   ]
  },
  {
   "cell_type": "code",
   "execution_count": null,
   "metadata": {},
   "outputs": [],
   "source": []
  }
 ],
 "metadata": {
  "kernelspec": {
   "display_name": "Python 3",
   "language": "python",
   "name": "python3"
  },
  "language_info": {
   "codemirror_mode": {
    "name": "ipython",
    "version": 3
   },
   "file_extension": ".py",
   "mimetype": "text/x-python",
   "name": "python",
   "nbconvert_exporter": "python",
   "pygments_lexer": "ipython3",
   "version": "3.8.5"
  }
 },
 "nbformat": 4,
 "nbformat_minor": 2
}
